{
  "nbformat": 4,
  "nbformat_minor": 0,
  "metadata": {
    "colab": {
      "name": "Ataques Adversarios",
      "provenance": [],
      "include_colab_link": true
    },
    "kernelspec": {
      "name": "python3",
      "display_name": "Python 3"
    }
  },
  "cells": [
    {
      "cell_type": "markdown",
      "metadata": {
        "id": "view-in-github",
        "colab_type": "text"
      },
      "source": [
        "<a href=\"https://colab.research.google.com/github/Tavo826/Ataques-adversarios/blob/main/Ataques_Adversarios.ipynb\" target=\"_parent\"><img src=\"https://colab.research.google.com/assets/colab-badge.svg\" alt=\"Open In Colab\"/></a>"
      ]
    },
    {
      "cell_type": "code",
      "metadata": {
        "id": "xJKVFFd9LoGC",
        "colab": {
          "base_uri": "https://localhost:8080/",
          "height": 34
        },
        "outputId": "21a35c88-f557-4ecc-da75-eabf05d6c4ce"
      },
      "source": [
        "import tensorflow as tf\n",
        "import keras\n",
        "\n",
        "import matplotlib.pyplot as plt\n",
        "import numpy as np"
      ],
      "execution_count": null,
      "outputs": [
        {
          "output_type": "stream",
          "text": [
            "Using TensorFlow backend.\n"
          ],
          "name": "stderr"
        }
      ]
    },
    {
      "cell_type": "code",
      "metadata": {
        "id": "cBog7VBAME86"
      },
      "source": [
        "from keras.applications.inception_v3 import InceptionV3, decode_predictions\n",
        "from keras import backend as K"
      ],
      "execution_count": null,
      "outputs": []
    },
    {
      "cell_type": "code",
      "metadata": {
        "id": "DjsrIj7yMmza",
        "colab": {
          "base_uri": "https://localhost:8080/",
          "height": 122
        },
        "outputId": "83ad9293-ae36-4c93-a7ca-ceeb315cb0a4"
      },
      "source": [
        "iv3=InceptionV3()"
      ],
      "execution_count": null,
      "outputs": [
        {
          "output_type": "stream",
          "text": [
            "WARNING:tensorflow:From /usr/local/lib/python3.6/dist-packages/tensorflow/python/framework/op_def_library.py:263: colocate_with (from tensorflow.python.framework.ops) is deprecated and will be removed in a future version.\n",
            "Instructions for updating:\n",
            "Colocations handled automatically by placer.\n",
            "Downloading data from https://github.com/fchollet/deep-learning-models/releases/download/v0.5/inception_v3_weights_tf_dim_ordering_tf_kernels.h5\n",
            "96116736/96112376 [==============================] - 3s 0us/step\n"
          ],
          "name": "stdout"
        }
      ]
    },
    {
      "cell_type": "code",
      "metadata": {
        "id": "PuKK66VjMzlr"
      },
      "source": [
        "#Resumen de la topología de la red neuronal\n",
        "print(iv3.summary())"
      ],
      "execution_count": null,
      "outputs": []
    },
    {
      "cell_type": "code",
      "metadata": {
        "id": "P2yZN9oZM9QE"
      },
      "source": [
        "from keras.preprocessing import image\n",
        "\n",
        "x=image.img_to_array(image.load_img(\"hacked.png\", target_size=(299,299)))\n",
        "\n",
        "plt.imshow(x.astype(np.uint8))\n",
        "plt.show()\n",
        "\n",
        "#Cambio de rango, 0,255 a -1,1\n",
        "x/=255\n",
        "x-=0.5\n",
        "x*=2\n",
        "\n",
        "x=x.reshape([1,x.shape[0],x.shape[1],x.shape[2]])\n",
        "\n",
        "y=iv3.predict(x)\n",
        "decode_predictions(y)"
      ],
      "execution_count": null,
      "outputs": []
    },
    {
      "cell_type": "code",
      "metadata": {
        "id": "SWnnf-xe26HW"
      },
      "source": [
        "#Rompiendo el modelo\n",
        "\n",
        "inp_layer=iv3.layers[0].input\n",
        "out_layer=iv3.layers[-1].output\n",
        "\n",
        "#Que detecte la imagen como un limón\n",
        "\n",
        "target_class=951\n",
        "loss=out_layer[0, target_class]\n",
        "grad=K.gradients(loss, inp_layer)[0]\n",
        "optimize_gradient=K.function([inp_layer, K.learning_phase()], [grad,loss])\n",
        "adv=np.copy(x)\n",
        "\n",
        "pert=0.01\n",
        "\n",
        "max_pert=x+0.01\n",
        "min_pert=x-0.01\n",
        "\n",
        "cost=0.0\n",
        "\n",
        "while cost<0.95:\n",
        "  \n",
        "  gr, cost=optimize_gradient([adv,0])\n",
        "  adv+=gr\n",
        "  adv=np.clip(adv,min_pert,max_pert)\n",
        "  adv=np.clip(adv,-1,1)\n",
        "  print(\"Lemon cost: \", cost)\n",
        "  \n",
        "hacked=np.copy(adv)"
      ],
      "execution_count": null,
      "outputs": []
    },
    {
      "cell_type": "code",
      "metadata": {
        "id": "qISYbqxm4jdt"
      },
      "source": [
        "adv/=2\n",
        "adv+=0.5\n",
        "adv*=255"
      ],
      "execution_count": null,
      "outputs": []
    },
    {
      "cell_type": "code",
      "metadata": {
        "id": "EO2AjFuK4oLX"
      },
      "source": [
        "plt.imshow(adv[0].astype(np.uint8))\n",
        "plt.show()"
      ],
      "execution_count": null,
      "outputs": []
    },
    {
      "cell_type": "code",
      "metadata": {
        "id": "QFYk29vD4zir"
      },
      "source": [
        "from PIL import Image\n",
        "im=Image.fromarray(adv[0].astype(np.uint8))\n",
        "im.save(\"hacked.png\")"
      ],
      "execution_count": null,
      "outputs": []
    }
  ]
}